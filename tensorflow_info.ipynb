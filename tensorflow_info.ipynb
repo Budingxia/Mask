{
  "nbformat": 4,
  "nbformat_minor": 0,
  "metadata": {
    "kernelspec": {
      "display_name": "Python 3",
      "language": "python",
      "name": "python3"
    },
    "language_info": {
      "codemirror_mode": {
        "name": "ipython",
        "version": 3
      },
      "file_extension": ".py",
      "mimetype": "text/x-python",
      "name": "python",
      "nbconvert_exporter": "python",
      "pygments_lexer": "ipython3",
      "version": "3.7.3"
    },
    "colab": {
      "name": "tensorflow_info.ipynb",
      "provenance": [],
      "collapsed_sections": []
    }
  },
  "cells": [
    {
      "cell_type": "code",
      "metadata": {
        "id": "-qQT0Lvkpm0f"
      },
      "source": [
        "# -*- coding:utf-8 -*-\n",
        "import os\n",
        "import cv2\n",
        "import time\n",
        "import argparse\n",
        "\n",
        "import numpy as np\n",
        "from PIL import Image\n",
        "#from keras.models import model_from_json\n",
        "from utils.anchor_generator import generate_anchors\n",
        "from utils.anchor_decode import decode_bbox\n",
        "from utils.nms import single_class_non_max_suppression\n",
        "from load_model.tensorflow_loader import load_tf_model, tf_inference"
      ],
      "execution_count": 3,
      "outputs": []
    },
    {
      "cell_type": "code",
      "metadata": {
        "id": "DYk8mt9Epm0g"
      },
      "source": [
        "os.environ['CUDA_VISIBLE_DEVICES']=''  # if you do  have gpu, set it to '0' or you GPU number"
      ],
      "execution_count": 4,
      "outputs": []
    },
    {
      "cell_type": "code",
      "metadata": {
        "id": "5mbJj8yypm0g"
      },
      "source": [
        "sess, graph = load_tf_model('models/face_mask_detection.pb')\n",
        "# anchor configuration\n",
        "feature_map_sizes = [[33, 33], [17, 17], [9, 9], [5, 5], [3, 3]]\n",
        "anchor_sizes = [[0.04, 0.056], [0.08, 0.11], [0.16, 0.22], [0.32, 0.45], [0.64, 0.72]]\n",
        "anchor_ratios = [[1, 0.62, 0.42]] * 5\n",
        "\n",
        "# generate anchors\n",
        "anchors = generate_anchors(feature_map_sizes, anchor_sizes, anchor_ratios)\n",
        "\n",
        "# for inference , the batch size is 1, the model output shape is [1, N, 4],\n",
        "# so we expand dim for anchors to [1, anchor_num, 4]\n",
        "anchors_exp = np.expand_dims(anchors, axis=0)\n",
        "\n",
        "id2class = {0: 'Mask', 1: 'NoMask'}"
      ],
      "execution_count": 6,
      "outputs": []
    },
    {
      "cell_type": "code",
      "metadata": {
        "id": "twGU0rm4pm0g"
      },
      "source": [
        "def inference(image,\n",
        "              conf_thresh=0.5,\n",
        "              iou_thresh=0.4,\n",
        "              target_shape=(160, 160),\n",
        "              draw_result=True,\n",
        "              ):\n",
        "    '''\n",
        "    Main function of detection inference\n",
        "    :param image: 3D numpy array of image\n",
        "    :param conf_thresh: the min threshold of classification probabity.\n",
        "    :param iou_thresh: the IOU threshold of NMS\n",
        "    :param target_shape: the model input size.\n",
        "    :param draw_result: whether to daw bounding box to the image.\n",
        "    :param show_result: whether to display the image.\n",
        "    :return:\n",
        "    '''\n",
        "    # image = np.copy(image)\n",
        "    output_info = []\n",
        "    height, width, _ = image.shape\n",
        "    image_resized = cv2.resize(image, target_shape)\n",
        "    image_np = image_resized / 255.0  # 归一化到0~1\n",
        "    image_exp = np.expand_dims(image_np, axis=0)\n",
        "    y_bboxes_output, y_cls_output = tf_inference(sess, graph, image_exp)\n",
        "\n",
        "    # remove the batch dimension, for batch is always 1 for inference.\n",
        "    y_bboxes = decode_bbox(anchors_exp, y_bboxes_output)[0]\n",
        "    y_cls = y_cls_output[0]\n",
        "    # To speed up, do single class NMS, not multiple classes NMS.\n",
        "    bbox_max_scores = np.max(y_cls, axis=1)\n",
        "    bbox_max_score_classes = np.argmax(y_cls, axis=1)\n",
        "\n",
        "    # keep_idx is the alive bounding box after nms.\n",
        "    keep_idxs = single_class_non_max_suppression(y_bboxes,\n",
        "                                                 bbox_max_scores,\n",
        "                                                 conf_thresh=conf_thresh,\n",
        "                                                 iou_thresh=iou_thresh,\n",
        "                                                 )\n",
        "\n",
        "    for idx in keep_idxs:\n",
        "        conf = float(bbox_max_scores[idx])\n",
        "        class_id = bbox_max_score_classes[idx]\n",
        "        bbox = y_bboxes[idx]\n",
        "        # clip the coordinate, avoid the value exceed the image boundary.\n",
        "        xmin = max(0, int(bbox[0] * width))\n",
        "        ymin = max(0, int(bbox[1] * height))\n",
        "        xmax = min(int(bbox[2] * width), width)\n",
        "        ymax = min(int(bbox[3] * height), height)\n",
        "\n",
        "        if draw_result:\n",
        "            if class_id == 0:\n",
        "                color = (0, 255, 0)\n",
        "            else:\n",
        "                color = (255, 0, 0)\n",
        "            cv2.rectangle(image, (xmin, ymin), (xmax, ymax), color, 2)\n",
        "            cv2.putText(image, \"%s: %.2f\" % (id2class[class_id], conf), (xmin + 2, ymin - 2),\n",
        "                        cv2.FONT_HERSHEY_SIMPLEX, 0.8, color)\n",
        "        output_info.append([class_id, conf, xmin, ymin, xmax, ymax])\n",
        "\n",
        "    img_output = Image.fromarray(image)\n",
        "    return output_info, img_output"
      ],
      "execution_count": 7,
      "outputs": []
    },
    {
      "cell_type": "code",
      "metadata": {
        "id": "xfYv-TY5pm0g"
      },
      "source": [
        "imgPath = 'img/2.jpg'\n",
        "img = cv2.imread(imgPath)\n",
        "img = cv2.cvtColor(img, cv2.COLOR_BGR2RGB)\n",
        "output_info, img_output = inference(img, draw_result=True, target_shape=(260, 260))"
      ],
      "execution_count": 8,
      "outputs": []
    },
    {
      "cell_type": "code",
      "metadata": {
        "id": "7Y_DhIC9pm0g",
        "colab": {
          "base_uri": "https://localhost:8080/"
        },
        "outputId": "8c399637-23c5-43fc-d14d-ddebc67ffd0c"
      },
      "source": [
        "output_info"
      ],
      "execution_count": 9,
      "outputs": [
        {
          "output_type": "execute_result",
          "data": {
            "text/plain": [
              "[[1, 0.9999868869781494, 36, 12, 85, 80]]"
            ]
          },
          "metadata": {
            "tags": []
          },
          "execution_count": 9
        }
      ]
    },
    {
      "cell_type": "code",
      "metadata": {
        "colab": {
          "base_uri": "https://localhost:8080/",
          "height": 122
        },
        "id": "6R3D-KEhpm0h",
        "outputId": "88bb5312-e01e-4536-83dd-8201599de8bb"
      },
      "source": [
        "img_output"
      ],
      "execution_count": 10,
      "outputs": [
        {
          "output_type": "execute_result",
          "data": {
            "image/png": "[encoded data removed]",
            "text/plain": [
              "<PIL.Image.Image image mode=RGB size=120x105 at 0x7FA2888F0FD0>"
            ]
          },
          "metadata": {
            "tags": []
          },
          "execution_count": 10
        }
      ]
    }
  ]
}